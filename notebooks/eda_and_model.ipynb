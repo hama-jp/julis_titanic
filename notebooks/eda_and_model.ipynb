{
 "cells": [
  {
   "cell_type": "markdown",
   "metadata": {},
   "source": [
    "# Titanic EDA and Feature Engineering\n",
    "安定して0.8以上のスコアを目指すためのEDAと特徴量エンジニアリング"
   ]
  },
  {
   "cell_type": "code",
   "execution_count": null,
   "metadata": {},
   "outputs": [],
   "source": [
    "import pandas as pd\n",
    "import numpy as np\n",
    "import matplotlib.pyplot as plt\n",
    "import seaborn as sns\n",
    "from sklearn.model_selection import cross_val_score, StratifiedKFold\n",
    "from sklearn.ensemble import RandomForestClassifier\n",
    "from sklearn.linear_model import LogisticRegression\n",
    "import warnings\n",
    "warnings.filterwarnings('ignore')\n",
    "\n",
    "# データ読み込み\n",
    "train = pd.read_csv('train.csv')\n",
    "test = pd.read_csv('test.csv')\n",
    "\n",
    "print('Train shape:', train.shape)\n",
    "print('Test shape:', test.shape)"
   ]
  },
  {
   "cell_type": "markdown",
   "metadata": {},
   "source": [
    "## 1. 基本的なデータ確認"
   ]
  },
  {
   "cell_type": "code",
   "execution_count": null,
   "metadata": {},
   "outputs": [],
   "source": [
    "# データ概要\n",
    "print('\\n=== Train Data Info ===')\n",
    "print(train.info())\n",
    "print('\\n=== Basic Statistics ===')\n",
    "print(train.describe())\n",
    "print('\\n=== Survival Rate ===')\n",
    "print(train['Survived'].value_counts(normalize=True))"
   ]
  },
  {
   "cell_type": "code",
   "execution_count": null,
   "metadata": {},
   "outputs": [],
   "source": [
    "# 欠損値の確認\n",
    "print('\\n=== Missing Values ===')\n",
    "missing_train = train.isnull().sum()\n",
    "missing_test = test.isnull().sum()\n",
    "missing_df = pd.DataFrame({\n",
    "    'Train': missing_train[missing_train > 0],\n",
    "    'Test': missing_test[missing_test > 0]\n",
    "})\n",
    "print(missing_df)"
   ]
  },
  {
   "cell_type": "markdown",
   "metadata": {},
   "source": [
    "## 2. 生存率との相関分析"
   ]
  },
  {
   "cell_type": "code",
   "execution_count": null,
   "metadata": {},
   "outputs": [],
   "source": [
    "# 性別と生存率\n",
    "print('\\n=== Survival by Sex ===')\n",
    "print(train.groupby('Sex')['Survived'].agg(['mean', 'count']))\n",
    "\n",
    "# クラスと生存率\n",
    "print('\\n=== Survival by Pclass ===')\n",
    "print(train.groupby('Pclass')['Survived'].agg(['mean', 'count']))\n",
    "\n",
    "# 乗船港と生存率\n",
    "print('\\n=== Survival by Embarked ===')\n",
    "print(train.groupby('Embarked')['Survived'].agg(['mean', 'count']))"
   ]
  },
  {
   "cell_type": "code",
   "execution_count": null,
   "metadata": {},
   "outputs": [],
   "source": [
    "# 年齢と生存率\n",
    "fig, axes = plt.subplots(1, 2, figsize=(12, 4))\n",
    "\n",
    "# 生存者と非生存者の年齢分布\n",
    "train[train['Survived']==1]['Age'].dropna().hist(bins=30, alpha=0.5, label='Survived', ax=axes[0])\n",
    "train[train['Survived']==0]['Age'].dropna().hist(bins=30, alpha=0.5, label='Not Survived', ax=axes[0])\n",
    "axes[0].set_xlabel('Age')\n",
    "axes[0].set_ylabel('Count')\n",
    "axes[0].legend()\n",
    "axes[0].set_title('Age Distribution by Survival')\n",
    "\n",
    "# 運賃と生存率\n",
    "train[train['Survived']==1]['Fare'].hist(bins=30, alpha=0.5, label='Survived', ax=axes[1])\n",
    "train[train['Survived']==0]['Fare'].hist(bins=30, alpha=0.5, label='Not Survived', ax=axes[1])\n",
    "axes[1].set_xlabel('Fare')\n",
    "axes[1].set_ylabel('Count')\n",
    "axes[1].legend()\n",
    "axes[1].set_title('Fare Distribution by Survival')\n",
    "\n",
    "plt.tight_layout()\n",
    "plt.show()"
   ]
  },
  {
   "cell_type": "markdown",
   "metadata": {},
   "source": [
    "## 3. 特徴量エンジニアリング（慎重に）\n",
    "\n",
    "過学習と多重共線性を避けるため、以下の点に注意：\n",
    "- 相関が高い特徴量は避ける\n",
    "- 実際に予測力がある特徴量のみを使用\n",
    "- シンプルな特徴量を優先"
   ]
  },
  {
   "cell_type": "code",
   "execution_count": null,
   "metadata": {},
   "outputs": [],
   "source": [
    "# データのコピーを作成\n",
    "train_fe = train.copy()\n",
    "test_fe = test.copy()\n",
    "\n",
    "# 結合してまとめて処理\n",
    "all_data = pd.concat([train_fe, test_fe], sort=False).reset_index(drop=True)"
   ]
  },
  {
   "cell_type": "code",
   "execution_count": null,
   "metadata": {},
   "outputs": [],
   "source": [
    "# 1. Title（敬称）の抽出\n",
    "# 名前から敬称を抽出（社会的地位を示す重要な情報）\n",
    "all_data['Title'] = all_data['Name'].str.extract(' ([A-Za-z]+)\\.', expand=False)\n",
    "print('\\n=== Title Distribution ===')\n",
    "print(all_data['Title'].value_counts())\n",
    "\n",
    "# 生存率を確認\n",
    "print('\\n=== Survival by Title ===')\n",
    "print(train_fe.assign(Title=all_data['Title'][:len(train_fe)]).groupby('Title')['Survived'].agg(['mean', 'count']))"
   ]
  },
  {
   "cell_type": "code",
   "execution_count": null,
   "metadata": {},
   "outputs": [],
   "source": [
    "# Titleをグループ化（希少なものをまとめる）\n",
    "title_mapping = {\n",
    "    'Mr': 'Mr',\n",
    "    'Miss': 'Miss',\n",
    "    'Mrs': 'Mrs',\n",
    "    'Master': 'Master',\n",
    "    'Rev': 'Rare',\n",
    "    'Dr': 'Rare',\n",
    "    'Col': 'Rare',\n",
    "    'Major': 'Rare',\n",
    "    'Mlle': 'Miss',\n",
    "    'Mme': 'Mrs',\n",
    "    'Don': 'Rare',\n",
    "    'Dona': 'Rare',\n",
    "    'Lady': 'Rare',\n",
    "    'Countess': 'Rare',\n",
    "    'Jonkheer': 'Rare',\n",
    "    'Sir': 'Rare',\n",
    "    'Capt': 'Rare',\n",
    "    'Ms': 'Miss'\n",
    "}\n",
    "all_data['Title'] = all_data['Title'].map(title_mapping)\n",
    "print('\\n=== Title After Mapping ===')\n",
    "print(all_data['Title'].value_counts())"
   ]
  },
  {
   "cell_type": "code",
   "execution_count": null,
   "metadata": {},
   "outputs": [],
   "source": [
    "# 2. Family Size（家族サイズ）\n",
    "# SibSpとParchを統合\n",
    "all_data['FamilySize'] = all_data['SibSp'] + all_data['Parch'] + 1\n",
    "\n",
    "print('\\n=== Survival by Family Size ===')\n",
    "temp_train = train_fe.copy()\n",
    "temp_train['FamilySize'] = all_data['FamilySize'][:len(train_fe)]\n",
    "print(temp_train.groupby('FamilySize')['Survived'].agg(['mean', 'count']))"
   ]
  },
  {
   "cell_type": "code",
   "execution_count": null,
   "metadata": {},
   "outputs": [],
   "source": [
    "# 3. IsAlone（一人旅かどうか）\n",
    "all_data['IsAlone'] = (all_data['FamilySize'] == 1).astype(int)\n",
    "\n",
    "print('\\n=== Survival by IsAlone ===')\n",
    "temp_train['IsAlone'] = all_data['IsAlone'][:len(train_fe)]\n",
    "print(temp_train.groupby('IsAlone')['Survived'].agg(['mean', 'count']))"
   ]
  },
  {
   "cell_type": "code",
   "execution_count": null,
   "metadata": {},
   "outputs": [],
   "source": [
    "# 4. Age の欠損値補完\n",
    "# TitleとPclassごとの中央値で補完\n",
    "all_data['Age'] = all_data.groupby(['Title', 'Pclass'])['Age'].transform(\n",
    "    lambda x: x.fillna(x.median())\n",
    ")\n",
    "\n",
    "print('\\n=== Age Missing After Imputation ===')\n",
    "print(all_data['Age'].isnull().sum())"
   ]
  },
  {
   "cell_type": "code",
   "execution_count": null,
   "metadata": {},
   "outputs": [],
   "source": [
    "# 5. Age Binning（年齢のビニング）\n",
    "# 細かすぎると過学習するので、シンプルに\n",
    "all_data['AgeBin'] = pd.cut(all_data['Age'], bins=[0, 12, 18, 35, 60, 100], \n",
    "                             labels=['Child', 'Teenager', 'Adult', 'MiddleAge', 'Senior'])\n",
    "\n",
    "print('\\n=== Survival by Age Bin ===')\n",
    "temp_train['AgeBin'] = all_data['AgeBin'][:len(train_fe)]\n",
    "print(temp_train.groupby('AgeBin')['Survived'].agg(['mean', 'count']))"
   ]
  },
  {
   "cell_type": "code",
   "execution_count": null,
   "metadata": {},
   "outputs": [],
   "source": [
    "# 6. Fare の欠損値補完と変換\n",
    "# Pclassごとの中央値で補完\n",
    "all_data['Fare'] = all_data.groupby('Pclass')['Fare'].transform(\n",
    "    lambda x: x.fillna(x.median())\n",
    ")\n",
    "\n",
    "# Fareのビニング（過学習を避けるため、粗めに）\n",
    "all_data['FareBin'] = pd.qcut(all_data['Fare'], q=4, labels=['Low', 'Medium', 'High', 'VeryHigh'], duplicates='drop')\n",
    "\n",
    "print('\\n=== Survival by Fare Bin ===')\n",
    "temp_train['FareBin'] = all_data['FareBin'][:len(train_fe)]\n",
    "print(temp_train.groupby('FareBin')['Survived'].agg(['mean', 'count']))"
   ]
  },
  {
   "cell_type": "code",
   "execution_count": null,
   "metadata": {},
   "outputs": [],
   "source": [
    "# 7. Embarked の欠損値補完\n",
    "all_data['Embarked'] = all_data['Embarked'].fillna('S')  # 最頻値で補完\n",
    "\n",
    "print('\\n=== Embarked Missing After Imputation ===')\n",
    "print(all_data['Embarked'].isnull().sum())"
   ]
  },
  {
   "cell_type": "markdown",
   "metadata": {},
   "source": [
    "## 4. エンコーディングと特徴量選択"
   ]
  },
  {
   "cell_type": "code",
   "execution_count": null,
   "metadata": {},
   "outputs": [],
   "source": [
    "# カテゴリカル変数をエンコーディング\n",
    "from sklearn.preprocessing import LabelEncoder\n",
    "\n",
    "le_sex = LabelEncoder()\n",
    "all_data['Sex'] = le_sex.fit_transform(all_data['Sex'])\n",
    "\n",
    "le_embarked = LabelEncoder()\n",
    "all_data['Embarked'] = le_embarked.fit_transform(all_data['Embarked'])\n",
    "\n",
    "le_title = LabelEncoder()\n",
    "all_data['Title'] = le_title.fit_transform(all_data['Title'])\n",
    "\n",
    "le_agebin = LabelEncoder()\n",
    "all_data['AgeBin'] = le_agebin.fit_transform(all_data['AgeBin'])\n",
    "\n",
    "le_farebin = LabelEncoder()\n",
    "all_data['FareBin'] = le_farebin.fit_transform(all_data['FareBin'])"
   ]
  },
  {
   "cell_type": "code",
   "execution_count": null,
   "metadata": {},
   "outputs": [],
   "source": [
    "# Train/Testに分割\n",
    "train_processed = all_data[:len(train_fe)].copy()\n",
    "test_processed = all_data[len(train_fe):].copy()\n",
    "\n",
    "# 目的変数を追加\n",
    "train_processed['Survived'] = train['Survived']"
   ]
  },
  {
   "cell_type": "code",
   "execution_count": null,
   "metadata": {},
   "outputs": [],
   "source": [
    "# 特徴量の相関を確認（多重共線性チェック）\n",
    "feature_candidates = ['Pclass', 'Sex', 'Age', 'SibSp', 'Parch', 'Fare', 'Embarked', \n",
    "                      'Title', 'FamilySize', 'IsAlone', 'AgeBin', 'FareBin']\n",
    "\n",
    "correlation_matrix = train_processed[feature_candidates].corr()\n",
    "plt.figure(figsize=(12, 10))\n",
    "sns.heatmap(correlation_matrix, annot=True, fmt='.2f', cmap='coolwarm', center=0)\n",
    "plt.title('Feature Correlation Matrix')\n",
    "plt.tight_layout()\n",
    "plt.show()\n",
    "\n",
    "print('\\n=== High Correlation Pairs (|corr| > 0.7) ===')\n",
    "high_corr = []\n",
    "for i in range(len(correlation_matrix.columns)):\n",
    "    for j in range(i+1, len(correlation_matrix.columns)):\n",
    "        if abs(correlation_matrix.iloc[i, j]) > 0.7:\n",
    "            high_corr.append((correlation_matrix.columns[i], \n",
    "                            correlation_matrix.columns[j], \n",
    "                            correlation_matrix.iloc[i, j]))\n",
    "for pair in high_corr:\n",
    "    print(f\"{pair[0]} <-> {pair[1]}: {pair[2]:.3f}\")"
   ]
  },
  {
   "cell_type": "markdown",
   "metadata": {},
   "source": [
    "## 5. モデリングと特徴量選択\n",
    "\n",
    "複数の特徴量セットを試して、最も安定したものを選択"
   ]
  },
  {
   "cell_type": "code",
   "execution_count": null,
   "metadata": {},
   "outputs": [],
   "source": [
    "# 特徴量セットを定義\n",
    "feature_sets = {\n",
    "    'Baseline': ['Pclass', 'Sex', 'Age', 'SibSp', 'Parch', 'Fare', 'Embarked'],\n",
    "    'WithTitle': ['Pclass', 'Sex', 'Age', 'Fare', 'Embarked', 'Title'],\n",
    "    'WithFamily': ['Pclass', 'Sex', 'Age', 'Fare', 'Embarked', 'FamilySize', 'IsAlone'],\n",
    "    'WithBins': ['Pclass', 'Sex', 'Embarked', 'Title', 'AgeBin', 'FareBin', 'IsAlone'],\n",
    "    'Minimal': ['Pclass', 'Sex', 'Title', 'AgeBin', 'FareBin'],\n",
    "    'Best': ['Pclass', 'Sex', 'Title', 'Age', 'Fare', 'IsAlone']\n",
    "}\n",
    "\n",
    "# 交差検証の設定\n",
    "cv = StratifiedKFold(n_splits=5, shuffle=True, random_state=42)\n",
    "\n",
    "results = {}\n",
    "\n",
    "for name, features in feature_sets.items():\n",
    "    X = train_processed[features]\n",
    "    y = train_processed['Survived']\n",
    "    \n",
    "    # RandomForest\n",
    "    rf = RandomForestClassifier(n_estimators=100, max_depth=5, min_samples_split=10, \n",
    "                                 random_state=42, n_jobs=-1)\n",
    "    rf_scores = cross_val_score(rf, X, y, cv=cv, scoring='accuracy')\n",
    "    \n",
    "    # LogisticRegression\n",
    "    lr = LogisticRegression(max_iter=1000, random_state=42)\n",
    "    lr_scores = cross_val_score(lr, X, y, cv=cv, scoring='accuracy')\n",
    "    \n",
    "    results[name] = {\n",
    "        'RF_mean': rf_scores.mean(),\n",
    "        'RF_std': rf_scores.std(),\n",
    "        'LR_mean': lr_scores.mean(),\n",
    "        'LR_std': lr_scores.std(),\n",
    "        'features': features\n",
    "    }\n",
    "\n",
    "# 結果を表示\n",
    "print('\\n=== Cross-Validation Results ===')\n",
    "results_df = pd.DataFrame(results).T\n",
    "results_df = results_df.sort_values('RF_mean', ascending=False)\n",
    "print(results_df[['RF_mean', 'RF_std', 'LR_mean', 'LR_std']])\n",
    "\n",
    "# 最良のモデルを選択\n",
    "best_feature_set = results_df.index[0]\n",
    "print(f'\\n=== Best Feature Set: {best_feature_set} ===')\n",
    "print(f\"Features: {results[best_feature_set]['features']}\")\n",
    "print(f\"RF Score: {results[best_feature_set]['RF_mean']:.4f} (+/- {results[best_feature_set]['RF_std']:.4f})\")\n",
    "print(f\"LR Score: {results[best_feature_set]['LR_mean']:.4f} (+/- {results[best_feature_set]['LR_std']:.4f})\")"
   ]
  },
  {
   "cell_type": "markdown",
   "metadata": {},
   "source": [
    "## 6. 最終モデルの訓練と予測"
   ]
  },
  {
   "cell_type": "code",
   "execution_count": null,
   "metadata": {},
   "outputs": [],
   "source": [
    "# 最良の特徴量セットで訓練\n",
    "best_features = results[best_feature_set]['features']\n",
    "X_train = train_processed[best_features]\n",
    "y_train = train_processed['Survived']\n",
    "X_test = test_processed[best_features]\n",
    "\n",
    "# RandomForestモデル\n",
    "final_model = RandomForestClassifier(\n",
    "    n_estimators=100,\n",
    "    max_depth=5,\n",
    "    min_samples_split=10,\n",
    "    min_samples_leaf=4,\n",
    "    random_state=42,\n",
    "    n_jobs=-1\n",
    ")\n",
    "\n",
    "final_model.fit(X_train, y_train)\n",
    "\n",
    "# 特徴量の重要度\n",
    "feature_importance = pd.DataFrame({\n",
    "    'feature': best_features,\n",
    "    'importance': final_model.feature_importances_\n",
    "}).sort_values('importance', ascending=False)\n",
    "\n",
    "print('\\n=== Feature Importance ===')\n",
    "print(feature_importance)\n",
    "\n",
    "# 可視化\n",
    "plt.figure(figsize=(10, 6))\n",
    "plt.barh(feature_importance['feature'], feature_importance['importance'])\n",
    "plt.xlabel('Importance')\n",
    "plt.title('Feature Importance')\n",
    "plt.tight_layout()\n",
    "plt.show()"
   ]
  },
  {
   "cell_type": "code",
   "execution_count": null,
   "metadata": {},
   "outputs": [],
   "source": [
    "# 予測\n",
    "predictions = final_model.predict(X_test)\n",
    "\n",
    "# 提出ファイルの作成\n",
    "submission = pd.DataFrame({\n",
    "    'PassengerId': test['PassengerId'],\n",
    "    'Survived': predictions\n",
    "})\n",
    "\n",
    "submission.to_csv('submission.csv', index=False)\n",
    "print('\\n=== Submission file created: submission.csv ===')\n",
    "print(f\"Predicted survival rate: {predictions.mean():.3f}\")\n",
    "print(f\"Predicted survivors: {predictions.sum()}/{len(predictions)}\")"
   ]
  },
  {
   "cell_type": "markdown",
   "metadata": {},
   "source": [
    "## 7. モデルの最終評価\n",
    "\n",
    "交差検証での詳細評価"
   ]
  },
  {
   "cell_type": "code",
   "execution_count": null,
   "metadata": {},
   "outputs": [],
   "source": [
    "# 各foldでのスコアを確認\n",
    "cv_scores = cross_val_score(final_model, X_train, y_train, cv=cv, scoring='accuracy')\n",
    "\n",
    "print('\\n=== Final Model CV Scores ===')\n",
    "for i, score in enumerate(cv_scores, 1):\n",
    "    print(f\"Fold {i}: {score:.4f}\")\n",
    "print(f\"\\nMean: {cv_scores.mean():.4f}\")\n",
    "print(f\"Std: {cv_scores.std():.4f}\")\n",
    "print(f\"95% CI: [{cv_scores.mean() - 2*cv_scores.std():.4f}, {cv_scores.mean() + 2*cv_scores.std():.4f}]\")\n",
    "\n",
    "if cv_scores.mean() >= 0.80:\n",
    "    print('\\n✓ Target score of 0.80+ achieved!')\n",
    "else:\n",
    "    print(f'\\n✗ Target score not achieved. Current: {cv_scores.mean():.4f}, Target: 0.80')"
   ]
  }
 ],
 "metadata": {
  "kernelspec": {
   "display_name": "Python 3",
   "language": "python",
   "name": "python3"
  },
  "language_info": {
   "codemirror_mode": {
    "name": "ipython",
    "version": 3
   },
   "file_extension": ".py",
   "mimetype": "text/x-python",
   "name": "python",
   "nbconvert_exporter": "python",
   "pygments_lexer": "ipython3",
   "version": "3.8.0"
  }
 },
 "nbformat": 4,
 "nbformat_minor": 4
}
